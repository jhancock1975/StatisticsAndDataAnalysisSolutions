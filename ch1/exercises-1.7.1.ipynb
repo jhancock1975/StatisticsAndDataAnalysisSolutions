{
 "cells": [
  {
   "cell_type": "code",
   "execution_count": 33,
   "metadata": {},
   "outputs": [],
   "source": [
    "%matplotlib inline\n",
    "import pandas as pd\n",
    "import seaborn as sns\n",
    "import numpy as np"
   ]
  },
  {
   "cell_type": "markdown",
   "metadata": {},
   "source": [
    "In this notebook, we are answering questions in the section 1.7.1 of Statistics and Data Analysis \\cite{statsAndData}."
   ]
  },
  {
   "cell_type": "markdown",
   "metadata": {},
   "source": [
    "<h1>Excercises 1.7,1</h1>\n",
    "<h2>Exercise 2</h2>\n",
    "<p>We skip the first question because we only need use the Pandas series or data frame describe function to do that one. For exercise 2 the authors ask us to compare data sets to see how statistics that are not robust change when we introduce extreme values to the dataset.</p>\n",
    "<p>The first dataset is:</p>"
   ]
  },
  {
   "cell_type": "code",
   "execution_count": 4,
   "metadata": {},
   "outputs": [],
   "source": [
    "ds_1 = [102, 131, 137, 63, 42, 12, 23, 49, 63, 21, 56, 68, 35,\n",
    "        63, 62, 19, 85, 38, 76, 29, 31, 16, 0, 8, 47, 40, 2, \n",
    "        44, 8, 16, 7, 43, 2, 50, 22, 1, 51, 34, 4, 78]"
   ]
  },
  {
   "cell_type": "markdown",
   "metadata": {},
   "source": [
    "The descriptive statistics for the data set are:"
   ]
  },
  {
   "cell_type": "code",
   "execution_count": 5,
   "metadata": {},
   "outputs": [
    {
     "data": {
      "text/plain": [
       "count     40.000000\n",
       "mean      41.950000\n",
       "std       33.473258\n",
       "min        0.000000\n",
       "25%       16.000000\n",
       "50%       39.000000\n",
       "75%       62.250000\n",
       "max      137.000000\n",
       "dtype: float64"
      ]
     },
     "execution_count": 5,
     "metadata": {},
     "output_type": "execute_result"
    }
   ],
   "source": [
    "pd.Series(ds_1).describe()"
   ]
  },
  {
   "cell_type": "markdown",
   "metadata": {},
   "source": [
    "The second data set is:"
   ]
  },
  {
   "cell_type": "code",
   "execution_count": 7,
   "metadata": {},
   "outputs": [],
   "source": [
    "ds_2 = [1020, 131, 137, 63, 42, 12, 23, 49, 63, 21, 56, 68, 35, \n",
    "        63, 62, 19, 85, 38, 76, 29, 31, 16, 0, 8, 47, 40, 2, 44, 8, 16,\n",
    "       7, 43, 2, 50, 22, 1, 51, 34, 4, 78, ]"
   ]
  },
  {
   "cell_type": "markdown",
   "metadata": {},
   "source": [
    "The descriptive statistics for this second data set are in the cell below."
   ]
  },
  {
   "cell_type": "code",
   "execution_count": 8,
   "metadata": {},
   "outputs": [
    {
     "data": {
      "text/plain": [
       "count      40.00000\n",
       "mean       64.90000\n",
       "std       158.16298\n",
       "min         0.00000\n",
       "25%        16.00000\n",
       "50%        39.00000\n",
       "75%        62.25000\n",
       "max      1020.00000\n",
       "dtype: float64"
      ]
     },
     "execution_count": 8,
     "metadata": {},
     "output_type": "execute_result"
    }
   ],
   "source": [
    "pd.Series(ds_2).describe()"
   ]
  },
  {
   "cell_type": "markdown",
   "metadata": {},
   "source": [
    "<p> We see that $Q_1$, $Q_2$, and $Q_3$ of both datasets do not change.  The standard deviation of the second data set is much larger than that of the first data set, and the mean is also larger. </p>\n",
    "<h2> Exercises 3 and 4 </h2>\n",
    "<p> For exercises 3 and 4, the authors ask us to do the same thing as in exercise 2, but replace the first element, 1020, in the second data set with 10200, and then 102000.  We do this without intervening commentary below. </p>"
   ]
  },
  {
   "cell_type": "code",
   "execution_count": 10,
   "metadata": {},
   "outputs": [],
   "source": [
    "ds_3 = [10200]+ds_2[1:]\n",
    "ds_4 = [102000] + ds_2[1:]"
   ]
  },
  {
   "cell_type": "code",
   "execution_count": 11,
   "metadata": {},
   "outputs": [
    {
     "data": {
      "text/plain": [
       "count       40.000000\n",
       "mean       294.400000\n",
       "std       1606.691389\n",
       "min          0.000000\n",
       "25%         16.000000\n",
       "50%         39.000000\n",
       "75%         62.250000\n",
       "max      10200.000000\n",
       "dtype: float64"
      ]
     },
     "execution_count": 11,
     "metadata": {},
     "output_type": "execute_result"
    }
   ],
   "source": [
    "pd.Series(ds_3).describe()"
   ]
  },
  {
   "cell_type": "code",
   "execution_count": 12,
   "metadata": {},
   "outputs": [
    {
     "data": {
      "text/plain": [
       "count        40.000000\n",
       "mean       2589.400000\n",
       "std       16121.258454\n",
       "min           0.000000\n",
       "25%          16.000000\n",
       "50%          39.000000\n",
       "75%          62.250000\n",
       "max      102000.000000\n",
       "dtype: float64"
      ]
     },
     "execution_count": 12,
     "metadata": {},
     "output_type": "execute_result"
    }
   ],
   "source": [
    "pd.Series(ds_4).describe()"
   ]
  },
  {
   "cell_type": "markdown",
   "metadata": {},
   "source": [
    "<p> These descriptive statistics emphasize the robustness of $Q_1$, $Q_2$, and $Q_3$.  On the other hand we see how the other statistics are impacted by how we increase the magnitude of the first parameter. </p>"
   ]
  },
  {
   "cell_type": "markdown",
   "metadata": {},
   "source": [
    "<h2> Exercise 5 </h2>\n",
    "<p> For exercise 5 the authors require us to compare two data sets of silver content of two sets of coins, $C_1$, and $C_2$.  Specifically, they ask us to draw box plots of the data in $C_1$, and $C_2$, and write a hypothesis as to whether or not one set has coins with a lower silver content. </p> \n",
    "<p>We create lists containing the data, one for each set, first. </p>"
   ]
  },
  {
   "cell_type": "code",
   "execution_count": 13,
   "metadata": {},
   "outputs": [],
   "source": [
    "c1 = [6.9, 6.2, 5.9, 6.8, 6.4, 7.0, 6.6, 7.7, 7.2]\n",
    "c2 = [5.3, 5.6, 5.5, 5.1, 6.2, 5.8, 5.8]"
   ]
  },
  {
   "cell_type": "markdown",
   "metadata": {},
   "source": [
    "<p> The sets are different sizes, so we pad the smaller one with not-a-number values before we can draw the box plots with Python's Seaborn library. </p>"
   ]
  },
  {
   "cell_type": "code",
   "execution_count": 20,
   "metadata": {},
   "outputs": [],
   "source": [
    "c2_padded = c2 + ( [ np.NaN ] * ( len( c2 ) - len( c1) ) )"
   ]
  },
  {
   "cell_type": "markdown",
   "metadata": {},
   "source": [
    "<p> We add labels to the elements of both sets, and put the result into a Pandas data frame. </p>"
   ]
  },
  {
   "cell_type": "code",
   "execution_count": 25,
   "metadata": {},
   "outputs": [],
   "source": [
    "minting_df = pd.DataFrame( { 'minting' : ( [ 'first minting' ] * len( c1 ) ) + ( [ 'fourth minting' ] *len( c2 )),\n",
    "    'silver percentage' : (c1 + c2) } )"
   ]
  },
  {
   "cell_type": "markdown",
   "metadata": {},
   "source": [
    "<p> Now that we have the minting_df data frame, we can draw the box plots. </p>"
   ]
  },
  {
   "cell_type": "code",
   "execution_count": 26,
   "metadata": {},
   "outputs": [
    {
     "data": {
      "text/plain": [
       "<matplotlib.axes._subplots.AxesSubplot at 0x7f1b5b25fa20>"
      ]
     },
     "execution_count": 26,
     "metadata": {},
     "output_type": "execute_result"
    },
    {
     "data": {
      "image/png": "[encoded data removed]",
      "text/plain": [
       "<Figure size 432x288 with 1 Axes>"
      ]
     },
     "metadata": {
      "needs_background": "light"
     },
     "output_type": "display_data"
    }
   ],
   "source": [
    "sns.boxplot(data=minting_df, x='minting', y='silver percentage')"
   ]
  },
  {
   "cell_type": "markdown",
   "metadata": {},
   "source": [
    "<p> We see from the box plots above that there is no overlap in the interquartile ranges of the first minting and the fourth minting.  This is an indication that coins from the fourth minting have a lower silver content than coins from the first minting. </p>"
   ]
  },
  {
   "cell_type": "markdown",
   "metadata": {},
   "source": [
    "<h2> Exercise 6 </h2>\n",
    "<p> Exercise 6 is also an exercise in comparing two sets of data.  The first thing the authors require of us is to create comparison plots of the data. We assume the authors want comparison box plots.  The authors ask us to reflect on the comparison box plots, and make a hypothesis about whether or this drug A is effective.  If the drug is effective, then the box plots should show that the LDL measurements in the first data set are lower than the LDL measurements in the second data set.  We store the data in the first data set in the list </p>\n",
    "<pre> drug_A </pre>\n",
    "<p> in the cell below.  We store the data in the second data set in the list </p>\n",
    "<pre> placebo </pre> \n",
    "<p> in the cell below as well.  </p>"
   ]
  },
  {
   "cell_type": "code",
   "execution_count": 27,
   "metadata": {},
   "outputs": [],
   "source": [
    "drug_A = [ 64, 49, 54, 64, 97, 66, 76, 44, 71, 89, 70, 72, 71, 55, 60, 62, 46, 77, 86, 71 ]\n",
    "placebo = [ 40, 31, 50, 48, 152, 44, 74, 38, 81, 64 ]"
   ]
  },
  {
   "cell_type": "markdown",
   "metadata": {},
   "source": [
    "<p> Again, we must pad the list </p>\n",
    "<pre> placebo </pre>\n",
    "<p> with Numpy not-a-number values in order to create the box plots. We also save the data, with parallel series of labels in the data frame</p>\n",
    "<pre> drug_data.</pre>\n",
    "<p> We create the box plots after that with no further remarks. </p>"
   ]
  },
  {
   "cell_type": "code",
   "execution_count": 30,
   "metadata": {},
   "outputs": [
    {
     "data": {
      "text/plain": [
       "<matplotlib.axes._subplots.AxesSubplot at 0x7f1b5b1ed160>"
      ]
     },
     "execution_count": 30,
     "metadata": {},
     "output_type": "execute_result"
    },
    {
     "data": {
      "image/png": "[encoded data removed]",
      "text/plain": [
       "<Figure size 432x288 with 1 Axes>"
      ]
     },
     "metadata": {
      "needs_background": "light"
     },
     "output_type": "display_data"
    }
   ],
   "source": [
    "drug_data = pd.DataFrame( {'Drug Label': \n",
    "  ( [ 'drug A'  ] * len(drug_A) ) + ( [ 'placebo' ] * ( ( len(placebo) + ( len(drug_A) - len(placebo) ) ) ) ),\n",
    "  'LDL Level': drug_A + placebo + ( [ np.NaN ] * (len( drug_A ) - len( placebo ) ) ) } )\n",
    "sns.boxplot(data=drug_data, x = 'Drug Label', y = 'LDL Level')"
   ]
  },
  {
   "cell_type": "markdown",
   "metadata": {},
   "source": [
    "<p> In the box plots above, we see that the interquartile range of the LDL levels of the ducks that received the placebo in their food contains the interquartile range of the LDL levels of the ducks that received drug A.  However, we hypothesize that drug A has the opposite of its intended effect - it appears to us that drug A has the effect of boosting the LDL levels in the ducks that the experimenters administered drug at to.</p>\n",
    "<p> The second part of exercise 6 requires us to compute the descriptive statistics for both datasets, and decide on a pair of statistics to compare that provides the most meaningful comparison. </p>\n",
    "<p> The descriptive statistics are in the cell below. </p>"
   ]
  },
  {
   "cell_type": "code",
   "execution_count": 31,
   "metadata": {},
   "outputs": [
    {
     "data": {
      "text/plain": [
       "count    20.000000\n",
       "mean     67.200000\n",
       "std      13.968385\n",
       "min      44.000000\n",
       "25%      58.750000\n",
       "50%      68.000000\n",
       "75%      73.000000\n",
       "max      97.000000\n",
       "dtype: float64"
      ]
     },
     "execution_count": 31,
     "metadata": {},
     "output_type": "execute_result"
    }
   ],
   "source": [
    "pd.Series(drug_A).describe()"
   ]
  },
  {
   "cell_type": "code",
   "execution_count": 32,
   "metadata": {},
   "outputs": [
    {
     "data": {
      "text/plain": [
       "count     10.000000\n",
       "mean      62.200000\n",
       "std       35.423784\n",
       "min       31.000000\n",
       "25%       41.000000\n",
       "50%       49.000000\n",
       "75%       71.500000\n",
       "max      152.000000\n",
       "dtype: float64"
      ]
     },
     "execution_count": 32,
     "metadata": {},
     "output_type": "execute_result"
    }
   ],
   "source": [
    "pd.Series(placebo).describe()"
   ]
  },
  {
   "cell_type": "markdown",
   "metadata": {},
   "source": [
    "<p> We find the 25th, 50th, and 75th percentiles important to compare.  These statistics show that the lowest LDL levels in the ducks that receive drug A are higher than the lowest LDL levels in the ducks that receive the placebo, and so on for each pair of percentiles.  This comparison shows that any duck that receives drug A has a higher LDL level than some duck that receives the placebo when we use statistics that are robust to outliers. </p>"
   ]
  },
  {
   "cell_type": "code",
   "execution_count": null,
   "metadata": {},
   "outputs": [],
   "source": [
    "%%latex\n",
    "\\begin{thebibliography}{99}\n",
    "\n",
    "\\bibitem{statsAndData} A.Abebe, J. Daniels, and J. W. McKean, \\textit{Statistics and Data Analysis},\n",
    "  2nd ed. Western Michigan University,Kalamzoo, MI: Statistical Computation Lab (SCL), 2001. [E-book] Available:\n",
    "  \\url{http://www.stat.wmich.edu/s160/hcopy/book.pdf}.\n",
    "\n",
    "\n",
    "\\end{thebibliography}"
   ]
  }
 ],
 "metadata": {
  "kernelspec": {
   "display_name": "Python 3",
   "language": "python",
   "name": "python3"
  },
  "language_info": {
   "codemirror_mode": {
    "name": "ipython",
    "version": 3
   },
   "file_extension": ".py",
   "mimetype": "text/x-python",
   "name": "python",
   "nbconvert_exporter": "python",
   "pygments_lexer": "ipython3",
   "version": "3.6.6"
  }
 },
 "nbformat": 4,
 "nbformat_minor": 2
}
