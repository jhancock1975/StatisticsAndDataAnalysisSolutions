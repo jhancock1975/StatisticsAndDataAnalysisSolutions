{
 "cells": [
  {
   "cell_type": "code",
   "execution_count": 18,
   "metadata": {},
   "outputs": [],
   "source": [
    "%matplotlib inline\n",
    "import seaborn as sns\n",
    "import pandas as pd\n",
    "import numpy as np"
   ]
  },
  {
   "cell_type": "markdown",
   "metadata": {},
   "source": [
    "In this notebook, we are answering questions the authors pose in section 1.6 of Statistics and Data Analysis \\cite{statsAndData}."
   ]
  },
  {
   "cell_type": "markdown",
   "metadata": {},
   "source": [
    "<h1>Reading 1.6 Questions</h1>\n",
    "<p>The first thing the authors ask for in reading 1.6 is a boxplot.  We chose to do a violin plot \\cite{kaggleSeaborn} instead.</p>  We pad in NaN values to the q1_data so that we will be able to do plots with this data and the data the authors give in the second question below.  Our justification for padding in NaN values is from the StackOverflow question \\cite{boxPlot2Lists}."
   ]
  },
  {
   "cell_type": "code",
   "execution_count": 64,
   "metadata": {},
   "outputs": [],
   "source": [
    "q1_data=[126, 132, 138, 140, 141, 141, 142, 143, 144, 144, 144, np.NaN, np.NaN]"
   ]
  },
  {
   "cell_type": "code",
   "execution_count": 21,
   "metadata": {},
   "outputs": [
    {
     "name": "stderr",
     "output_type": "stream",
     "text": [
      "/home/jhancock2010/venv/2018-11-04-py3.6/lib/python3.6/site-packages/scipy/stats/stats.py:1713: FutureWarning: Using a non-tuple sequence for multidimensional indexing is deprecated; use `arr[tuple(seq)]` instead of `arr[seq]`. In the future this will be interpreted as an array index, `arr[np.array(seq)]`, which will result either in an error or a different result.\n",
      "  return np.add.reduce(sorted[indexer] * weights, axis=axis) / sumval\n"
     ]
    },
    {
     "data": {
      "text/plain": [
       "<matplotlib.axes._subplots.AxesSubplot at 0x7f944e177c50>"
      ]
     },
     "execution_count": 21,
     "metadata": {},
     "output_type": "execute_result"
    },
    {
     "data": {
      "image/png": "[encoded data removed]",
      "text/plain": [
       "<Figure size 432x288 with 1 Axes>"
      ]
     },
     "metadata": {
      "needs_background": "light"
     },
     "output_type": "display_data"
    }
   ],
   "source": [
    "sns.violinplot(q1_data)"
   ]
  },
  {
   "cell_type": "markdown",
   "metadata": {},
   "source": [
    "But why fight things?  Let's do a box plot. The authors will probably ask some questions that one can only answer with a box plot later."
   ]
  },
  {
   "cell_type": "code",
   "execution_count": 22,
   "metadata": {},
   "outputs": [
    {
     "data": {
      "text/plain": [
       "<matplotlib.axes._subplots.AxesSubplot at 0x7f944e079a90>"
      ]
     },
     "execution_count": 22,
     "metadata": {},
     "output_type": "execute_result"
    },
    {
     "data": {
      "image/png": "[encoded data removed]",
      "text/plain": [
       "<Figure size 432x288 with 1 Axes>"
      ]
     },
     "metadata": {
      "needs_background": "light"
     },
     "output_type": "display_data"
    }
   ],
   "source": [
    "sns.boxplot(q1_data)"
   ]
  },
  {
   "cell_type": "markdown",
   "metadata": {},
   "source": [
    "<p>We give them an inch,  and they take a mile.  Now, they want a comparison box plot of the data we saved in the</p>\n",
    "<pre>q1_data</pre>\n",
    "<p>list above, and another data set that we will define below.</p>"
   ]
  },
  {
   "cell_type": "code",
   "execution_count": 65,
   "metadata": {},
   "outputs": [],
   "source": [
    "q2_data = [123, 324, 145, 156, 265, 143, 221, 322, 133, 233, 142, 144, 244]"
   ]
  },
  {
   "cell_type": "code",
   "execution_count": 66,
   "metadata": {},
   "outputs": [
    {
     "data": {
      "text/plain": [
       "[126,\n",
       " 132,\n",
       " 138,\n",
       " 140,\n",
       " 141,\n",
       " 141,\n",
       " 142,\n",
       " 143,\n",
       " 144,\n",
       " 144,\n",
       " 144,\n",
       " nan,\n",
       " nan,\n",
       " 123,\n",
       " 324,\n",
       " 145,\n",
       " 156,\n",
       " 265,\n",
       " 143,\n",
       " 221,\n",
       " 322,\n",
       " 133,\n",
       " 233,\n",
       " 142,\n",
       " 144,\n",
       " 244]"
      ]
     },
     "execution_count": 66,
     "metadata": {},
     "output_type": "execute_result"
    }
   ],
   "source": [
    "labels = ['q1_data']*len(q1_data)\n",
    "labels.extend(['q2_data']*len(q2_data))\n",
    "labels\n",
    "q1_data.extend(q2_data)\n",
    "q1_data"
   ]
  },
  {
   "cell_type": "code",
   "execution_count": 69,
   "metadata": {},
   "outputs": [
    {
     "name": "stdout",
     "output_type": "stream",
     "text": [
      "26\n",
      "26\n"
     ]
    },
    {
     "data": {
      "text/plain": [
       "<matplotlib.axes._subplots.AxesSubplot at 0x7f944deceda0>"
      ]
     },
     "execution_count": 69,
     "metadata": {},
     "output_type": "execute_result"
    },
    {
     "data": {
      "image/png": "[encoded data removed]",
      "text/plain": [
       "<Figure size 432x288 with 1 Axes>"
      ]
     },
     "metadata": {
      "needs_background": "light"
     },
     "output_type": "display_data"
    }
   ],
   "source": [
    "print(len(labels))\n",
    "print(len(q1_data))\n",
    "\n",
    "df=pd.DataFrame({'category':labels, 'samples': q1_data})\n",
    "sns.boxplot(data=df, y='samples', x='category')"
   ]
  },
  {
   "cell_type": "markdown",
   "metadata": {},
   "source": [
    "<p>Well, with some closer following of the example  with wine varieties in the tutorial in \\cite{kaggleSeaborn} we get the idea that the first data set is a lot less spread out than the second data set.</p>"
   ]
  },
  {
   "cell_type": "code",
   "execution_count": null,
   "metadata": {},
   "outputs": [],
   "source": []
  },
  {
   "cell_type": "code",
   "execution_count": null,
   "metadata": {},
   "outputs": [],
   "source": [
    "%%latex\n",
    "\\begin{thebibliography}{99}\n",
    "\n",
    "\\bibitem{statsAndData} A.Abebe, J. Daniels, and J. W. McKean, \\textit{Statistics and Data Analysis},\n",
    "  2nd ed. Western Michigan University,Kalamzoo, MI: Statistical Computation Lab (SCL), 2001. [E-book] Available:\n",
    "  \\url{http://www.stat.wmich.edu/s160/hcopy/book.pdf}.\n",
    "\n",
    "\\bibitem{kaggleSeaborn} A. Bilogur, Kaggle User DanB, and C. Morris, ``Plotting with seaborn'',\n",
    "  Kaggle.com [Online] Available: \\url{https://www.kaggle.com/residentmario/plotting-with-seaborn}.\n",
    " [Accessed December 30, 2018].\n",
    "\n",
    "\\bibitem{boxPlot2Lists} StackOverflow user CT Zhu, ``Python boxplot out of columns of different lengths'',\n",
    "  CT Zhu Answer April 14 2014. StackOverflow.com [Online] \n",
    "    Available: \\url{https://stackoverflow.com/a/23159240/3220610}. [Accessed December 30, 2018].\n",
    "    \n",
    "\\end{thebibliography}"
   ]
  }
 ],
 "metadata": {
  "kernelspec": {
   "display_name": "Python 3",
   "language": "python",
   "name": "python3"
  },
  "language_info": {
   "codemirror_mode": {
    "name": "ipython",
    "version": 3
   },
   "file_extension": ".py",
   "mimetype": "text/x-python",
   "name": "python",
   "nbconvert_exporter": "python",
   "pygments_lexer": "ipython3",
   "version": "3.6.6"
  }
 },
 "nbformat": 4,
 "nbformat_minor": 2
}
