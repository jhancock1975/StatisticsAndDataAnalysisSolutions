{
 "cells": [
  {
   "cell_type": "code",
   "execution_count": 1,
   "metadata": {},
   "outputs": [],
   "source": [
    "import pandas as pd"
   ]
  },
  {
   "cell_type": "markdown",
   "metadata": {},
   "source": [
    "<h1>Exercise 1.2.1</h1>\n",
    "<h2>Part 1</h2>\n",
    "<p>The first question asks us to obtain the distribution for the hair color of the 20 students. The hair color data is the following list:</p>"
   ]
  },
  {
   "cell_type": "code",
   "execution_count": 4,
   "metadata": {},
   "outputs": [],
   "source": [
    "hair_color=['Red', 'Blond', 'Blond', 'Brown', 'Brown', 'Red', \n",
    " 'Blond', 'Blond', 'Brown',\n",
    "'Black', 'Blond', 'Red', 'Red', 'Brown', 'Black', 'Brown', 'Red',\n",
    " 'Black',\n",
    "'Brown', 'Blond']"
   ]
  },
  {
   "cell_type": "markdown",
   "metadata": {},
   "source": [
    "We wrap the list in a Pandas datframe and use the <pre>value_counts</pre> function to find the distribution of the hair color data:"
   ]
  },
  {
   "cell_type": "code",
   "execution_count": 7,
   "metadata": {},
   "outputs": [],
   "source": [
    "hair_df=pd.DataFrame({'hair_color':hair_color})"
   ]
  },
  {
   "cell_type": "code",
   "execution_count": 17,
   "metadata": {},
   "outputs": [
    {
     "data": {
      "text/plain": [
       "Brown    6\n",
       "Blond    6\n",
       "Red      5\n",
       "Black    3\n",
       "Name: hair_color, dtype: int64"
      ]
     },
     "execution_count": 17,
     "metadata": {},
     "output_type": "execute_result"
    }
   ],
   "source": [
    "hair_dist=hair_df.hair_color.value_counts()\n",
    "dist"
   ]
  },
  {
   "cell_type": "markdown",
   "metadata": {},
   "source": [
    "The above is the distribution of the data.\n",
    "<h2>Part 2</h2>\n",
    "<p>This question goes on to ask us to draw a histogram of the hair data.  We invoke the Pandas <pre>plot</pre> function on the hair_dist object in order to get a plot of the distribution."
   ]
  },
  {
   "cell_type": "code",
   "execution_count": 18,
   "metadata": {},
   "outputs": [
    {
     "data": {
      "text/plain": [
       "<matplotlib.axes._subplots.AxesSubplot at 0x7fde4a71a400>"
      ]
     },
     "execution_count": 18,
     "metadata": {},
     "output_type": "execute_result"
    },
    {
     "data": {
      "image/png": "[encoded data removed]",
      "text/plain": [
       "<Figure size 432x288 with 1 Axes>"
      ]
     },
     "metadata": {
      "needs_background": "light"
     },
     "output_type": "display_data"
    }
   ],
   "source": [
    "hair_dist.plot(kind='bar')"
   ]
  },
  {
   "cell_type": "markdown",
   "metadata": {},
   "source": [
    "The last part of the question asks us to compute the sample proportion of blonds. We do not see any definition of the sample proportion, so we use Google to find one. Well, nothing jumps out when we search for the term sample proportion, so we go back to the text.  For a distrbution consisting of 17 R's and 3 L's, the sample proportion is given as $\\frac{3}{16}$  We guess that the numerator is the count of items in the class in the distribution we want the sample proportion for, and the denominator is the sum of the counts of the other classes in the distribution.  Therefore, to answer this question, the sample proportion is $\\frac{6}{\\left(6+5+3\\right) -1} = \\frac{6}{13}$."
   ]
  },
  {
   "cell_type": "markdown",
   "metadata": {},
   "source": []
  }
 ],
 "metadata": {
  "kernelspec": {
   "display_name": "Python 3",
   "language": "python",
   "name": "python3"
  },
  "language_info": {
   "codemirror_mode": {
    "name": "ipython",
    "version": 3
   },
   "file_extension": ".py",
   "mimetype": "text/x-python",
   "name": "python",
   "nbconvert_exporter": "python",
   "pygments_lexer": "ipython3",
   "version": "3.6.6"
  }
 },
 "nbformat": 4,
 "nbformat_minor": 2
}
