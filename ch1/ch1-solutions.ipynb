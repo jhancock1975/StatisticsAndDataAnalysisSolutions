{
 "cells": [
  {
   "cell_type": "code",
   "execution_count": 1,
   "metadata": {},
   "outputs": [],
   "source": [
    "import pandas as pd"
   ]
  },
  {
   "cell_type": "markdown",
   "metadata": {},
   "source": [
    "<h1>Exercise 1.2.1</h1>\n",
    "<h2>Question 1</h2>\n",
    "<h3>Part 1</h3>\n",
    "<p>The first question asks us to obtain the distribution for the hair color of the 20 students. The hair color data is the following list:</p>"
   ]
  },
  {
   "cell_type": "code",
   "execution_count": 4,
   "metadata": {},
   "outputs": [],
   "source": [
    "hair_color=['Red', 'Blond', 'Blond', 'Brown', 'Brown', 'Red', \n",
    " 'Blond', 'Blond', 'Brown',\n",
    "'Black', 'Blond', 'Red', 'Red', 'Brown', 'Black', 'Brown', 'Red',\n",
    " 'Black',\n",
    "'Brown', 'Blond']"
   ]
  },
  {
   "cell_type": "markdown",
   "metadata": {},
   "source": [
    "We wrap the list in a Pandas datframe and use the <pre>value_counts</pre> function to find the distribution of the hair color data:"
   ]
  },
  {
   "cell_type": "code",
   "execution_count": 7,
   "metadata": {},
   "outputs": [],
   "source": [
    "hair_df=pd.DataFrame({'hair_color':hair_color})"
   ]
  },
  {
   "cell_type": "code",
   "execution_count": 17,
   "metadata": {},
   "outputs": [
    {
     "data": {
      "text/plain": [
       "Brown    6\n",
       "Blond    6\n",
       "Red      5\n",
       "Black    3\n",
       "Name: hair_color, dtype: int64"
      ]
     },
     "execution_count": 17,
     "metadata": {},
     "output_type": "execute_result"
    }
   ],
   "source": [
    "hair_dist=hair_df.hair_color.value_counts()\n",
    "dist"
   ]
  },
  {
   "cell_type": "markdown",
   "metadata": {},
   "source": [
    "The above is the distribution of the data.\n",
    "<h3>Part 2</h3>\n",
    "<p>This question goes on to ask us to draw a histogram of the hair data.  We invoke the Pandas <pre>plot</pre> function on the hair_dist object in order to get a plot of the distribution."
   ]
  },
  {
   "cell_type": "code",
   "execution_count": 18,
   "metadata": {},
   "outputs": [
    {
     "data": {
      "text/plain": [
       "<matplotlib.axes._subplots.AxesSubplot at 0x7fde4a71a400>"
      ]
     },
     "execution_count": 18,
     "metadata": {},
     "output_type": "execute_result"
    },
    {
     "data": {
      "image/png": "[encoded data removed]",
      "text/plain": [
       "<Figure size 432x288 with 1 Axes>"
      ]
     },
     "metadata": {
      "needs_background": "light"
     },
     "output_type": "display_data"
    }
   ],
   "source": [
    "hair_dist.plot(kind='bar')"
   ]
  },
  {
   "cell_type": "markdown",
   "metadata": {},
   "source": [
    "The last part of the question asks us to compute the sample proportion of blonds. We do not see any definition of the sample proportion, so we use Google to find one. Well, nothing jumps out when we search for the term sample proportion, so we go back to the text.  For a distrbution consisting of 17 R's and 3 L's, the sample proportion is given as $\\frac{3}{16}$  We guess that the numerator is the count of items in the class in the distribution we want the sample proportion for, and the denominator is the sum of the counts of the other classes in the distribution.  Therefore, to answer this question, the sample proportion is $\\frac{6}{\\left(6+5+3\\right) -1} = \\frac{6}{13}$."
   ]
  },
  {
   "cell_type": "markdown",
   "metadata": {},
   "source": [
    "<h2>Question 4</h2>\n",
    "This is not really I question, it is a task but I am not sure what to call it in this outliine format I'm making up now.  Anyway, question 4 is asking for the distribution of left and right handed players in the baseball player data in Appendix A.  Well, we had a hard time trying to copy and past that data in order to work with it, so the best thing to do is convert the book pdf to tiff, and then use tesseract to do the OCR.</p>\n",
    "<p>In order to do this task, we read the baseball data into a dataframe, then use</p>\n",
    "<pre>value_counts</pre>\n",
    "<p>to get the distribution, then </p>\n",
    "<pre>plot</pre>\n",
    "<p>with a bar chart type to draw the histogram.</p>"
   ]
  },
  {
   "cell_type": "code",
   "execution_count": 21,
   "metadata": {},
   "outputs": [
    {
     "data": {
      "text/plain": [
       "0    44\n",
       "1    15\n",
       "Name: 3, dtype: int64"
      ]
     },
     "execution_count": 21,
     "metadata": {},
     "output_type": "execute_result"
    }
   ],
   "source": [
    "baseball_data=pd.read_csv('../baseball-data.csv', sep = ' ', header=None)\n",
    "baseball_dist = baseball_data[3].value_counts()\n",
    "baseball_dist"
   ]
  },
  {
   "cell_type": "code",
   "execution_count": 22,
   "metadata": {},
   "outputs": [
    {
     "data": {
      "text/plain": [
       "<matplotlib.axes._subplots.AxesSubplot at 0x7fde4a6ea518>"
      ]
     },
     "execution_count": 22,
     "metadata": {},
     "output_type": "execute_result"
    },
    {
     "data": {
      "image/png": "[encoded data removed]",
      "text/plain": [
       "<Figure size 432x288 with 1 Axes>"
      ]
     },
     "metadata": {
      "needs_background": "light"
     },
     "output_type": "display_data"
    }
   ],
   "source": [
    "baseball_dist.plot(kind='bar')"
   ]
  },
  {
   "cell_type": "markdown",
   "metadata": {},
   "source": [
    "Ok, I don't know why the labels on the axes are rotated ninety degrees from what I think they should be, but I'll take it."
   ]
  },
  {
   "cell_type": "markdown",
   "metadata": {},
   "source": [
    "<h2>Question 5</h2>\n",
    "<p>Question 5 is asking us to obtain the sample proportion of left handed players.  The sample proportion is $\\frac{15}{43}\\approx 0.35$.  In this question the authors state that about 11% of males in America are left handed, and they ask us if the sample proportion seems high.  Since our sample proportion approximately 35%, it seems that our sample has a high proportion of left-handed players.  We think this is because players with a dominant left hand have an advantage over right-handed players in the game of baseball.</p>"
   ]
  }
 ],
 "metadata": {
  "kernelspec": {
   "display_name": "Python 3",
   "language": "python",
   "name": "python3"
  },
  "language_info": {
   "codemirror_mode": {
    "name": "ipython",
    "version": 3
   },
   "file_extension": ".py",
   "mimetype": "text/x-python",
   "name": "python",
   "nbconvert_exporter": "python",
   "pygments_lexer": "ipython3",
   "version": "3.6.6"
  }
 },
 "nbformat": 4,
 "nbformat_minor": 2
}
